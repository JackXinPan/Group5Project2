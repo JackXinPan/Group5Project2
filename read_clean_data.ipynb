{
 "cells": [
  {
   "cell_type": "code",
   "execution_count": 1,
   "metadata": {},
   "outputs": [],
   "source": [
    "# dependencies\n",
    "import pandas as pd\n",
    "import numpy as np\n",
    "import sqlalchemy\n",
    "from sqlalchemy.ext.automap import automap_base\n",
    "from sqlalchemy.orm import Session\n",
    "from sqlalchemy import create_engine\n",
    "from sqlalchemy import create_engine, func\n",
    "from sqlalchemy import create_engine, inspect"
   ]
  },
  {
   "cell_type": "code",
   "execution_count": 2,
   "metadata": {},
   "outputs": [],
   "source": [
    "phytoplankton = pd.read_csv(\"data/phytoplankton.csv\")\n",
    "zooplankton =  pd.read_csv(\"data/zooplankton.csv\")\n",
    "#phytoplankton_color = pd.read_csv(\"data/phytoplankton_ci.csv\")"
   ]
  },
  {
   "cell_type": "code",
   "execution_count": 3,
   "metadata": {
    "scrolled": true
   },
   "outputs": [
    {
     "data": {
      "text/html": [
       "<div>\n",
       "<style scoped>\n",
       "    .dataframe tbody tr th:only-of-type {\n",
       "        vertical-align: middle;\n",
       "    }\n",
       "\n",
       "    .dataframe tbody tr th {\n",
       "        vertical-align: top;\n",
       "    }\n",
       "\n",
       "    .dataframe thead th {\n",
       "        text-align: right;\n",
       "    }\n",
       "</style>\n",
       "<table border=\"1\" class=\"dataframe\">\n",
       "  <thead>\n",
       "    <tr style=\"text-align: right;\">\n",
       "      <th></th>\n",
       "      <th>FID</th>\n",
       "      <th>id</th>\n",
       "      <th>Route</th>\n",
       "      <th>Latitude</th>\n",
       "      <th>Longitude</th>\n",
       "      <th>SampleDateUTC</th>\n",
       "      <th>Year</th>\n",
       "      <th>Month</th>\n",
       "      <th>Day</th>\n",
       "      <th>Time_24hr</th>\n",
       "      <th>...</th>\n",
       "      <th>caab_code</th>\n",
       "      <th>taxon_start_date</th>\n",
       "      <th>taxon_per_m3</th>\n",
       "      <th>phyto_comments</th>\n",
       "      <th>acknowledgements</th>\n",
       "      <th>first_occurrence</th>\n",
       "      <th>parent_taxon_name</th>\n",
       "      <th>training</th>\n",
       "      <th>comments</th>\n",
       "      <th>geom</th>\n",
       "    </tr>\n",
       "  </thead>\n",
       "  <tbody>\n",
       "    <tr>\n",
       "      <th>0</th>\n",
       "      <td>soop_auscpr_phyto_flat_map.fid--404dafa0_17a9a...</td>\n",
       "      <td>30880720</td>\n",
       "      <td>ABAB</td>\n",
       "      <td>-37.9138</td>\n",
       "      <td>135.3310</td>\n",
       "      <td>2020-02-27T02:01:35Z</td>\n",
       "      <td>2020</td>\n",
       "      <td>2</td>\n",
       "      <td>27</td>\n",
       "      <td>02:01:35</td>\n",
       "      <td>...</td>\n",
       "      <td>50566000.0</td>\n",
       "      <td>NaN</td>\n",
       "      <td>3333.3</td>\n",
       "      <td>NaN</td>\n",
       "      <td>Wallenius Wilhelmsen</td>\n",
       "      <td>NaN</td>\n",
       "      <td>NaN</td>\n",
       "      <td>NaN</td>\n",
       "      <td>NaN</td>\n",
       "      <td>POINT (135.33099 -37.91378)</td>\n",
       "    </tr>\n",
       "    <tr>\n",
       "      <th>1</th>\n",
       "      <td>soop_auscpr_phyto_flat_map.fid--404dafa0_17a9a...</td>\n",
       "      <td>30880722</td>\n",
       "      <td>ABAB</td>\n",
       "      <td>-37.9138</td>\n",
       "      <td>135.3310</td>\n",
       "      <td>2020-02-27T02:01:35Z</td>\n",
       "      <td>2020</td>\n",
       "      <td>2</td>\n",
       "      <td>27</td>\n",
       "      <td>02:01:35</td>\n",
       "      <td>...</td>\n",
       "      <td>52030054.0</td>\n",
       "      <td>NaN</td>\n",
       "      <td>666.7</td>\n",
       "      <td>*Noted as present in the zoop count*</td>\n",
       "      <td>Wallenius Wilhelmsen</td>\n",
       "      <td>NaN</td>\n",
       "      <td>NaN</td>\n",
       "      <td>NaN</td>\n",
       "      <td>NaN</td>\n",
       "      <td>POINT (135.33099 -37.91378)</td>\n",
       "    </tr>\n",
       "    <tr>\n",
       "      <th>2</th>\n",
       "      <td>soop_auscpr_phyto_flat_map.fid--404dafa0_17a9a...</td>\n",
       "      <td>30880721</td>\n",
       "      <td>ABAB</td>\n",
       "      <td>-37.9138</td>\n",
       "      <td>135.3310</td>\n",
       "      <td>2020-02-27T02:01:35Z</td>\n",
       "      <td>2020</td>\n",
       "      <td>2</td>\n",
       "      <td>27</td>\n",
       "      <td>02:01:35</td>\n",
       "      <td>...</td>\n",
       "      <td>52030900.0</td>\n",
       "      <td>2011-05-17</td>\n",
       "      <td>666.7</td>\n",
       "      <td>*Noted as present in the zoop count*</td>\n",
       "      <td>Wallenius Wilhelmsen</td>\n",
       "      <td>2011-09-20</td>\n",
       "      <td>Tripos spp.</td>\n",
       "      <td>Internal training Pru Bonhma, Gustaaf Hallegraeff</td>\n",
       "      <td>NaN</td>\n",
       "      <td>POINT (135.33099 -37.91378)</td>\n",
       "    </tr>\n",
       "    <tr>\n",
       "      <th>3</th>\n",
       "      <td>soop_auscpr_phyto_flat_map.fid--404dafa0_17a9a...</td>\n",
       "      <td>30880726</td>\n",
       "      <td>ABAB</td>\n",
       "      <td>-37.8766</td>\n",
       "      <td>134.9125</td>\n",
       "      <td>2020-02-27T03:10:21Z</td>\n",
       "      <td>2020</td>\n",
       "      <td>2</td>\n",
       "      <td>27</td>\n",
       "      <td>03:10:21</td>\n",
       "      <td>...</td>\n",
       "      <td>99530018.0</td>\n",
       "      <td>2011-05-17</td>\n",
       "      <td>6666.7</td>\n",
       "      <td>NaN</td>\n",
       "      <td>Wallenius Wilhelmsen</td>\n",
       "      <td>2011-09-15</td>\n",
       "      <td>Pseudo-nitzschia spp.</td>\n",
       "      <td>Internal training Pru Bonhma, Gustaaf Hallegraeff</td>\n",
       "      <td>NaN</td>\n",
       "      <td>POINT (134.91247 -37.87656)</td>\n",
       "    </tr>\n",
       "    <tr>\n",
       "      <th>4</th>\n",
       "      <td>soop_auscpr_phyto_flat_map.fid--404dafa0_17a9a...</td>\n",
       "      <td>30880727</td>\n",
       "      <td>ABAB</td>\n",
       "      <td>-37.8766</td>\n",
       "      <td>134.9125</td>\n",
       "      <td>2020-02-27T03:10:21Z</td>\n",
       "      <td>2020</td>\n",
       "      <td>2</td>\n",
       "      <td>27</td>\n",
       "      <td>03:10:21</td>\n",
       "      <td>...</td>\n",
       "      <td>NaN</td>\n",
       "      <td>NaN</td>\n",
       "      <td>3333.3</td>\n",
       "      <td>NaN</td>\n",
       "      <td>Wallenius Wilhelmsen</td>\n",
       "      <td>NaN</td>\n",
       "      <td>NaN</td>\n",
       "      <td>NaN</td>\n",
       "      <td>NaN</td>\n",
       "      <td>POINT (134.91247 -37.87656)</td>\n",
       "    </tr>\n",
       "  </tbody>\n",
       "</table>\n",
       "<p>5 rows × 25 columns</p>\n",
       "</div>"
      ],
      "text/plain": [
       "                                                 FID        id Route  \\\n",
       "0  soop_auscpr_phyto_flat_map.fid--404dafa0_17a9a...  30880720  ABAB   \n",
       "1  soop_auscpr_phyto_flat_map.fid--404dafa0_17a9a...  30880722  ABAB   \n",
       "2  soop_auscpr_phyto_flat_map.fid--404dafa0_17a9a...  30880721  ABAB   \n",
       "3  soop_auscpr_phyto_flat_map.fid--404dafa0_17a9a...  30880726  ABAB   \n",
       "4  soop_auscpr_phyto_flat_map.fid--404dafa0_17a9a...  30880727  ABAB   \n",
       "\n",
       "   Latitude  Longitude         SampleDateUTC  Year  Month  Day Time_24hr  ...  \\\n",
       "0  -37.9138   135.3310  2020-02-27T02:01:35Z  2020      2   27  02:01:35  ...   \n",
       "1  -37.9138   135.3310  2020-02-27T02:01:35Z  2020      2   27  02:01:35  ...   \n",
       "2  -37.9138   135.3310  2020-02-27T02:01:35Z  2020      2   27  02:01:35  ...   \n",
       "3  -37.8766   134.9125  2020-02-27T03:10:21Z  2020      2   27  03:10:21  ...   \n",
       "4  -37.8766   134.9125  2020-02-27T03:10:21Z  2020      2   27  03:10:21  ...   \n",
       "\n",
       "    caab_code taxon_start_date taxon_per_m3  \\\n",
       "0  50566000.0              NaN       3333.3   \n",
       "1  52030054.0              NaN        666.7   \n",
       "2  52030900.0       2011-05-17        666.7   \n",
       "3  99530018.0       2011-05-17       6666.7   \n",
       "4         NaN              NaN       3333.3   \n",
       "\n",
       "                         phyto_comments      acknowledgements  \\\n",
       "0                                   NaN  Wallenius Wilhelmsen   \n",
       "1  *Noted as present in the zoop count*  Wallenius Wilhelmsen   \n",
       "2  *Noted as present in the zoop count*  Wallenius Wilhelmsen   \n",
       "3                                   NaN  Wallenius Wilhelmsen   \n",
       "4                                   NaN  Wallenius Wilhelmsen   \n",
       "\n",
       "   first_occurrence      parent_taxon_name  \\\n",
       "0               NaN                    NaN   \n",
       "1               NaN                    NaN   \n",
       "2        2011-09-20            Tripos spp.   \n",
       "3        2011-09-15  Pseudo-nitzschia spp.   \n",
       "4               NaN                    NaN   \n",
       "\n",
       "                                            training comments  \\\n",
       "0                                                NaN      NaN   \n",
       "1                                                NaN      NaN   \n",
       "2  Internal training Pru Bonhma, Gustaaf Hallegraeff      NaN   \n",
       "3  Internal training Pru Bonhma, Gustaaf Hallegraeff      NaN   \n",
       "4                                                NaN      NaN   \n",
       "\n",
       "                          geom  \n",
       "0  POINT (135.33099 -37.91378)  \n",
       "1  POINT (135.33099 -37.91378)  \n",
       "2  POINT (135.33099 -37.91378)  \n",
       "3  POINT (134.91247 -37.87656)  \n",
       "4  POINT (134.91247 -37.87656)  \n",
       "\n",
       "[5 rows x 25 columns]"
      ]
     },
     "execution_count": 3,
     "metadata": {},
     "output_type": "execute_result"
    }
   ],
   "source": [
    "\n",
    "phytoplankton.head()"
   ]
  },
  {
   "cell_type": "code",
   "execution_count": null,
   "metadata": {
    "scrolled": false
   },
   "outputs": [],
   "source": [
    "#rounding coordinates\n",
    "phytoplankton = phytoplankton.round(2)\n",
    "phytoplankton.head()"
   ]
  },
  {
   "cell_type": "code",
   "execution_count": null,
   "metadata": {},
   "outputs": [],
   "source": [
    "#putting lat and long into one column\n",
    "\n",
    "#phytoplankton[\"coordinates\"] = \"[\" + phytoplankton[\"Latitude\"].astype(str) +\", \" + phytoplankton[\"Longitude\"].astype(str) + \"]\""
   ]
  },
  {
   "cell_type": "code",
   "execution_count": 4,
   "metadata": {
    "scrolled": true
   },
   "outputs": [],
   "source": [
    "#drop unneeded columns for phytoplankton APIs\n",
    "phyto = phytoplankton.drop([\"id\",\n",
    "                                    \"Time_24hr\",\n",
    "                                    \"FID\",\n",
    "                                    \"SampleDateUTC\",\n",
    "#                                    \"Latitude\",\n",
    "#                                    \"Longitude\",\n",
    "                                    \"Month\",\n",
    "                                    \"Day\",\n",
    "                                    \"family\",\n",
    "                                    \"genus\",\n",
    "#                                    \"taxon_group\",\n",
    "                                    \"species\",\n",
    "                                    \"caab_code\",\n",
    "                                   \"taxon_start_date\",\n",
    "                                    \"taxon_name\",\n",
    "                                   \"phyto_comments\",\n",
    "                                   \"acknowledgements\",\n",
    "                                   \"first_occurrence\",\n",
    "                                   \"parent_taxon_name\",\n",
    "                                   \"training\",\n",
    "                                   \"comments\",\n",
    "                                    \"geom\"\n",
    "                                  ],\n",
    "                                  axis=1)"
   ]
  },
  {
   "cell_type": "code",
   "execution_count": 5,
   "metadata": {
    "scrolled": true
   },
   "outputs": [
    {
     "data": {
      "text/html": [
       "<div>\n",
       "<style scoped>\n",
       "    .dataframe tbody tr th:only-of-type {\n",
       "        vertical-align: middle;\n",
       "    }\n",
       "\n",
       "    .dataframe tbody tr th {\n",
       "        vertical-align: top;\n",
       "    }\n",
       "\n",
       "    .dataframe thead th {\n",
       "        text-align: right;\n",
       "    }\n",
       "</style>\n",
       "<table border=\"1\" class=\"dataframe\">\n",
       "  <thead>\n",
       "    <tr style=\"text-align: right;\">\n",
       "      <th></th>\n",
       "      <th>Route</th>\n",
       "      <th>Latitude</th>\n",
       "      <th>Longitude</th>\n",
       "      <th>Year</th>\n",
       "      <th>taxon_group</th>\n",
       "      <th>taxon_per_m3</th>\n",
       "    </tr>\n",
       "  </thead>\n",
       "  <tbody>\n",
       "    <tr>\n",
       "      <th>0</th>\n",
       "      <td>ABAB</td>\n",
       "      <td>-37.9138</td>\n",
       "      <td>135.3310</td>\n",
       "      <td>2020</td>\n",
       "      <td>Ciliate</td>\n",
       "      <td>3333.3</td>\n",
       "    </tr>\n",
       "    <tr>\n",
       "      <th>1</th>\n",
       "      <td>ABAB</td>\n",
       "      <td>-37.9138</td>\n",
       "      <td>135.3310</td>\n",
       "      <td>2020</td>\n",
       "      <td>Dinoflagellate</td>\n",
       "      <td>666.7</td>\n",
       "    </tr>\n",
       "    <tr>\n",
       "      <th>2</th>\n",
       "      <td>ABAB</td>\n",
       "      <td>-37.9138</td>\n",
       "      <td>135.3310</td>\n",
       "      <td>2020</td>\n",
       "      <td>Dinoflagellate</td>\n",
       "      <td>666.7</td>\n",
       "    </tr>\n",
       "    <tr>\n",
       "      <th>3</th>\n",
       "      <td>ABAB</td>\n",
       "      <td>-37.8766</td>\n",
       "      <td>134.9125</td>\n",
       "      <td>2020</td>\n",
       "      <td>Pennate diatom</td>\n",
       "      <td>6666.7</td>\n",
       "    </tr>\n",
       "    <tr>\n",
       "      <th>4</th>\n",
       "      <td>ABAB</td>\n",
       "      <td>-37.8766</td>\n",
       "      <td>134.9125</td>\n",
       "      <td>2020</td>\n",
       "      <td>Dinoflagellate</td>\n",
       "      <td>3333.3</td>\n",
       "    </tr>\n",
       "  </tbody>\n",
       "</table>\n",
       "</div>"
      ],
      "text/plain": [
       "  Route  Latitude  Longitude  Year     taxon_group  taxon_per_m3\n",
       "0  ABAB  -37.9138   135.3310  2020         Ciliate        3333.3\n",
       "1  ABAB  -37.9138   135.3310  2020  Dinoflagellate         666.7\n",
       "2  ABAB  -37.9138   135.3310  2020  Dinoflagellate         666.7\n",
       "3  ABAB  -37.8766   134.9125  2020  Pennate diatom        6666.7\n",
       "4  ABAB  -37.8766   134.9125  2020  Dinoflagellate        3333.3"
      ]
     },
     "execution_count": 5,
     "metadata": {},
     "output_type": "execute_result"
    }
   ],
   "source": [
    "phyto.head()"
   ]
  },
  {
   "cell_type": "markdown",
   "metadata": {},
   "source": [
    "# phyto_taxon_group API"
   ]
  },
  {
   "cell_type": "code",
   "execution_count": 6,
   "metadata": {},
   "outputs": [
    {
     "data": {
      "text/html": [
       "<div>\n",
       "<style scoped>\n",
       "    .dataframe tbody tr th:only-of-type {\n",
       "        vertical-align: middle;\n",
       "    }\n",
       "\n",
       "    .dataframe tbody tr th {\n",
       "        vertical-align: top;\n",
       "    }\n",
       "\n",
       "    .dataframe thead th {\n",
       "        text-align: right;\n",
       "    }\n",
       "</style>\n",
       "<table border=\"1\" class=\"dataframe\">\n",
       "  <thead>\n",
       "    <tr style=\"text-align: right;\">\n",
       "      <th></th>\n",
       "      <th>Route</th>\n",
       "      <th>Year</th>\n",
       "      <th>taxon_group</th>\n",
       "      <th>taxon_per_m3</th>\n",
       "    </tr>\n",
       "  </thead>\n",
       "  <tbody>\n",
       "    <tr>\n",
       "      <th>0</th>\n",
       "      <td>ABAB</td>\n",
       "      <td>2020</td>\n",
       "      <td>Ciliate</td>\n",
       "      <td>3333.3</td>\n",
       "    </tr>\n",
       "    <tr>\n",
       "      <th>1</th>\n",
       "      <td>ABAB</td>\n",
       "      <td>2020</td>\n",
       "      <td>Dinoflagellate</td>\n",
       "      <td>666.7</td>\n",
       "    </tr>\n",
       "    <tr>\n",
       "      <th>2</th>\n",
       "      <td>ABAB</td>\n",
       "      <td>2020</td>\n",
       "      <td>Dinoflagellate</td>\n",
       "      <td>666.7</td>\n",
       "    </tr>\n",
       "    <tr>\n",
       "      <th>3</th>\n",
       "      <td>ABAB</td>\n",
       "      <td>2020</td>\n",
       "      <td>Pennate diatom</td>\n",
       "      <td>6666.7</td>\n",
       "    </tr>\n",
       "    <tr>\n",
       "      <th>4</th>\n",
       "      <td>ABAB</td>\n",
       "      <td>2020</td>\n",
       "      <td>Dinoflagellate</td>\n",
       "      <td>3333.3</td>\n",
       "    </tr>\n",
       "  </tbody>\n",
       "</table>\n",
       "</div>"
      ],
      "text/plain": [
       "  Route  Year     taxon_group  taxon_per_m3\n",
       "0  ABAB  2020         Ciliate        3333.3\n",
       "1  ABAB  2020  Dinoflagellate         666.7\n",
       "2  ABAB  2020  Dinoflagellate         666.7\n",
       "3  ABAB  2020  Pennate diatom        6666.7\n",
       "4  ABAB  2020  Dinoflagellate        3333.3"
      ]
     },
     "execution_count": 6,
     "metadata": {},
     "output_type": "execute_result"
    }
   ],
   "source": [
    "phyto_taxon_group = phyto.drop([\"Latitude\", \"Longitude\"], axis=1)\n",
    "\n",
    "phyto_taxon_group.head()"
   ]
  },
  {
   "cell_type": "markdown",
   "metadata": {},
   "source": [
    "# phyto_groupby_taxon\n"
   ]
  },
  {
   "cell_type": "code",
   "execution_count": 7,
   "metadata": {},
   "outputs": [
    {
     "data": {
      "text/html": [
       "<div>\n",
       "<style scoped>\n",
       "    .dataframe tbody tr th:only-of-type {\n",
       "        vertical-align: middle;\n",
       "    }\n",
       "\n",
       "    .dataframe tbody tr th {\n",
       "        vertical-align: top;\n",
       "    }\n",
       "\n",
       "    .dataframe thead th {\n",
       "        text-align: right;\n",
       "    }\n",
       "</style>\n",
       "<table border=\"1\" class=\"dataframe\">\n",
       "  <thead>\n",
       "    <tr style=\"text-align: right;\">\n",
       "      <th></th>\n",
       "      <th></th>\n",
       "      <th>taxon_per_m3</th>\n",
       "    </tr>\n",
       "    <tr>\n",
       "      <th>taxon_group</th>\n",
       "      <th>Year</th>\n",
       "      <th></th>\n",
       "    </tr>\n",
       "  </thead>\n",
       "  <tbody>\n",
       "    <tr>\n",
       "      <th rowspan=\"5\" valign=\"top\">Centric diatom</th>\n",
       "      <th>2007</th>\n",
       "      <td>7551.534278</td>\n",
       "    </tr>\n",
       "    <tr>\n",
       "      <th>2008</th>\n",
       "      <td>6175.653846</td>\n",
       "    </tr>\n",
       "    <tr>\n",
       "      <th>2009</th>\n",
       "      <td>8697.562267</td>\n",
       "    </tr>\n",
       "    <tr>\n",
       "      <th>2010</th>\n",
       "      <td>11326.249533</td>\n",
       "    </tr>\n",
       "    <tr>\n",
       "      <th>2011</th>\n",
       "      <td>6213.341902</td>\n",
       "    </tr>\n",
       "  </tbody>\n",
       "</table>\n",
       "</div>"
      ],
      "text/plain": [
       "                     taxon_per_m3\n",
       "taxon_group    Year              \n",
       "Centric diatom 2007   7551.534278\n",
       "               2008   6175.653846\n",
       "               2009   8697.562267\n",
       "               2010  11326.249533\n",
       "               2011   6213.341902"
      ]
     },
     "execution_count": 7,
     "metadata": {},
     "output_type": "execute_result"
    }
   ],
   "source": [
    "phyto_groupby_taxon = pd.DataFrame(phyto_taxon_group.groupby(by=[\"taxon_group\",\"Year\"])[\"taxon_per_m3\"].mean())\n",
    "\n",
    "phyto_groupby_taxon.head()"
   ]
  },
  {
   "cell_type": "markdown",
   "metadata": {},
   "source": [
    "# phyto_routes API"
   ]
  },
  {
   "cell_type": "code",
   "execution_count": 8,
   "metadata": {},
   "outputs": [
    {
     "data": {
      "text/html": [
       "<div>\n",
       "<style scoped>\n",
       "    .dataframe tbody tr th:only-of-type {\n",
       "        vertical-align: middle;\n",
       "    }\n",
       "\n",
       "    .dataframe tbody tr th {\n",
       "        vertical-align: top;\n",
       "    }\n",
       "\n",
       "    .dataframe thead th {\n",
       "        text-align: right;\n",
       "    }\n",
       "</style>\n",
       "<table border=\"1\" class=\"dataframe\">\n",
       "  <thead>\n",
       "    <tr style=\"text-align: right;\">\n",
       "      <th></th>\n",
       "      <th>Route</th>\n",
       "      <th>Latitude</th>\n",
       "      <th>Longitude</th>\n",
       "      <th>Year</th>\n",
       "      <th>taxon_per_m3</th>\n",
       "      <th>log2_m3</th>\n",
       "    </tr>\n",
       "  </thead>\n",
       "  <tbody>\n",
       "    <tr>\n",
       "      <th>0</th>\n",
       "      <td>ABAB</td>\n",
       "      <td>-37.9138</td>\n",
       "      <td>135.3310</td>\n",
       "      <td>2020</td>\n",
       "      <td>3333.3</td>\n",
       "      <td>11.7</td>\n",
       "    </tr>\n",
       "    <tr>\n",
       "      <th>1</th>\n",
       "      <td>ABAB</td>\n",
       "      <td>-37.9138</td>\n",
       "      <td>135.3310</td>\n",
       "      <td>2020</td>\n",
       "      <td>666.7</td>\n",
       "      <td>9.4</td>\n",
       "    </tr>\n",
       "    <tr>\n",
       "      <th>2</th>\n",
       "      <td>ABAB</td>\n",
       "      <td>-37.9138</td>\n",
       "      <td>135.3310</td>\n",
       "      <td>2020</td>\n",
       "      <td>666.7</td>\n",
       "      <td>9.4</td>\n",
       "    </tr>\n",
       "    <tr>\n",
       "      <th>3</th>\n",
       "      <td>ABAB</td>\n",
       "      <td>-37.8766</td>\n",
       "      <td>134.9125</td>\n",
       "      <td>2020</td>\n",
       "      <td>6666.7</td>\n",
       "      <td>12.7</td>\n",
       "    </tr>\n",
       "    <tr>\n",
       "      <th>4</th>\n",
       "      <td>ABAB</td>\n",
       "      <td>-37.8766</td>\n",
       "      <td>134.9125</td>\n",
       "      <td>2020</td>\n",
       "      <td>3333.3</td>\n",
       "      <td>11.7</td>\n",
       "    </tr>\n",
       "  </tbody>\n",
       "</table>\n",
       "</div>"
      ],
      "text/plain": [
       "  Route  Latitude  Longitude  Year  taxon_per_m3  log2_m3\n",
       "0  ABAB  -37.9138   135.3310  2020        3333.3     11.7\n",
       "1  ABAB  -37.9138   135.3310  2020         666.7      9.4\n",
       "2  ABAB  -37.9138   135.3310  2020         666.7      9.4\n",
       "3  ABAB  -37.8766   134.9125  2020        6666.7     12.7\n",
       "4  ABAB  -37.8766   134.9125  2020        3333.3     11.7"
      ]
     },
     "execution_count": 8,
     "metadata": {},
     "output_type": "execute_result"
    }
   ],
   "source": [
    "# Routes API\n",
    "# reset index and and a log of taxon_main_routes for more informative heatmap\n",
    "phyto_routes = phyto.drop([\"taxon_group\"], axis=1)\n",
    "\n",
    "phyto_routes = phyto_routes.reset_index().drop([\"index\"],axis=1)\n",
    "phyto_routes[\"log2_m3\"] = np.log2(phyto_routes[\"taxon_per_m3\"]).round(1)\n",
    "phyto_routes.head()"
   ]
  },
  {
   "cell_type": "markdown",
   "metadata": {},
   "source": [
    "# phyto_groupby_route"
   ]
  },
  {
   "cell_type": "code",
   "execution_count": 9,
   "metadata": {},
   "outputs": [
    {
     "data": {
      "text/html": [
       "<div>\n",
       "<style scoped>\n",
       "    .dataframe tbody tr th:only-of-type {\n",
       "        vertical-align: middle;\n",
       "    }\n",
       "\n",
       "    .dataframe tbody tr th {\n",
       "        vertical-align: top;\n",
       "    }\n",
       "\n",
       "    .dataframe thead th {\n",
       "        text-align: right;\n",
       "    }\n",
       "</style>\n",
       "<table border=\"1\" class=\"dataframe\">\n",
       "  <thead>\n",
       "    <tr style=\"text-align: right;\">\n",
       "      <th></th>\n",
       "      <th></th>\n",
       "      <th>taxon_per_m3</th>\n",
       "    </tr>\n",
       "    <tr>\n",
       "      <th>Route</th>\n",
       "      <th>Year</th>\n",
       "      <th></th>\n",
       "    </tr>\n",
       "  </thead>\n",
       "  <tbody>\n",
       "    <tr>\n",
       "      <th>ABAB</th>\n",
       "      <th>2020</th>\n",
       "      <td>3414.812222</td>\n",
       "    </tr>\n",
       "    <tr>\n",
       "      <th rowspan=\"4\" valign=\"top\">ABFR</th>\n",
       "      <th>2014</th>\n",
       "      <td>4933.332667</td>\n",
       "    </tr>\n",
       "    <tr>\n",
       "      <th>2015</th>\n",
       "      <td>4237.531034</td>\n",
       "    </tr>\n",
       "    <tr>\n",
       "      <th>2016</th>\n",
       "      <td>5445.455455</td>\n",
       "    </tr>\n",
       "    <tr>\n",
       "      <th>2017</th>\n",
       "      <td>2715.704412</td>\n",
       "    </tr>\n",
       "  </tbody>\n",
       "</table>\n",
       "</div>"
      ],
      "text/plain": [
       "            taxon_per_m3\n",
       "Route Year              \n",
       "ABAB  2020   3414.812222\n",
       "ABFR  2014   4933.332667\n",
       "      2015   4237.531034\n",
       "      2016   5445.455455\n",
       "      2017   2715.704412"
      ]
     },
     "execution_count": 9,
     "metadata": {},
     "output_type": "execute_result"
    }
   ],
   "source": [
    "# find the average taxon per m3 grouped by each route and year and turn it into a dataframe\n",
    "phyto_groupby_route = pd.DataFrame(phyto_routes.groupby(by=[\"Route\",\"Year\"])[\"taxon_per_m3\"].mean())\n",
    "\n",
    "phyto_groupby_route.head()"
   ]
  },
  {
   "cell_type": "code",
   "execution_count": null,
   "metadata": {
    "scrolled": true
   },
   "outputs": [],
   "source": [
    "# get list of unique routes to unimportant ones for per year sample consistency/data limit\n",
    "column_values = phytoplankton[[\"Route\"]].values.ravel()\n",
    "unique_routes =  pd.unique(column_values)\n",
    "\n",
    "print(unique_routes)"
   ]
  },
  {
   "cell_type": "code",
   "execution_count": null,
   "metadata": {
    "scrolled": true
   },
   "outputs": [],
   "source": [
    "#total count of unique values\n",
    "\n",
    "item_counts = phytoplankton[\"Route\"].value_counts()\n",
    "print(item_counts)"
   ]
  },
  {
   "cell_type": "code",
   "execution_count": null,
   "metadata": {
    "scrolled": false
   },
   "outputs": [],
   "source": [
    "#for loop to check which routes to drop\n",
    "\n",
    "for route in unique_routes:\n",
    "    print(route)\n",
    "    route_filter = phytoplankton.loc[phytoplankton['Route'] == route]\n",
    "    print(route_filter[\"Year\"].value_counts())\n",
    "    print(\"***************************************************\")"
   ]
  },
  {
   "cell_type": "code",
   "execution_count": 10,
   "metadata": {},
   "outputs": [],
   "source": [
    "#have only four main routes for sample size due to data limits\n",
    "\n",
    "phyto_main_4 = phyto_routes.loc[((phyto_routes['Route'] == \"ANHO\") |\n",
    "        (phyto_routes[\"Route\"] == 'BRSY')|\n",
    "        (phyto_routes[\"Route\"] == 'HOAN')|\n",
    "#        (phyto_routes[\"Route\"] == 'PKME')|\n",
    "        (phyto_routes[\"Route\"] == 'MEAD')), :]"
   ]
  },
  {
   "cell_type": "markdown",
   "metadata": {},
   "source": [
    "# phyto_years API \n",
    "\n",
    "### Use when  x = Year NOT Route"
   ]
  },
  {
   "cell_type": "code",
   "execution_count": 11,
   "metadata": {
    "scrolled": true
   },
   "outputs": [
    {
     "data": {
      "text/html": [
       "<div>\n",
       "<style scoped>\n",
       "    .dataframe tbody tr th:only-of-type {\n",
       "        vertical-align: middle;\n",
       "    }\n",
       "\n",
       "    .dataframe tbody tr th {\n",
       "        vertical-align: top;\n",
       "    }\n",
       "\n",
       "    .dataframe thead th {\n",
       "        text-align: right;\n",
       "    }\n",
       "</style>\n",
       "<table border=\"1\" class=\"dataframe\">\n",
       "  <thead>\n",
       "    <tr style=\"text-align: right;\">\n",
       "      <th></th>\n",
       "      <th>Route</th>\n",
       "      <th>Latitude</th>\n",
       "      <th>Longitude</th>\n",
       "      <th>Year</th>\n",
       "      <th>taxon_per_m3</th>\n",
       "    </tr>\n",
       "  </thead>\n",
       "  <tbody>\n",
       "    <tr>\n",
       "      <th>0</th>\n",
       "      <td>ANHO</td>\n",
       "      <td>-60.0961</td>\n",
       "      <td>89.6107</td>\n",
       "      <td>2007</td>\n",
       "      <td>666.7</td>\n",
       "    </tr>\n",
       "    <tr>\n",
       "      <th>1</th>\n",
       "      <td>ANHO</td>\n",
       "      <td>-63.2677</td>\n",
       "      <td>139.8854</td>\n",
       "      <td>2008</td>\n",
       "      <td>3333.3</td>\n",
       "    </tr>\n",
       "    <tr>\n",
       "      <th>2</th>\n",
       "      <td>ANHO</td>\n",
       "      <td>-63.2677</td>\n",
       "      <td>139.8854</td>\n",
       "      <td>2008</td>\n",
       "      <td>10000.0</td>\n",
       "    </tr>\n",
       "    <tr>\n",
       "      <th>3</th>\n",
       "      <td>ANHO</td>\n",
       "      <td>-63.2677</td>\n",
       "      <td>139.8854</td>\n",
       "      <td>2008</td>\n",
       "      <td>3333.3</td>\n",
       "    </tr>\n",
       "    <tr>\n",
       "      <th>4</th>\n",
       "      <td>ANHO</td>\n",
       "      <td>-63.2677</td>\n",
       "      <td>139.8854</td>\n",
       "      <td>2008</td>\n",
       "      <td>6666.7</td>\n",
       "    </tr>\n",
       "  </tbody>\n",
       "</table>\n",
       "</div>"
      ],
      "text/plain": [
       "  Route  Latitude  Longitude  Year  taxon_per_m3\n",
       "0  ANHO  -60.0961    89.6107  2007         666.7\n",
       "1  ANHO  -63.2677   139.8854  2008        3333.3\n",
       "2  ANHO  -63.2677   139.8854  2008       10000.0\n",
       "3  ANHO  -63.2677   139.8854  2008        3333.3\n",
       "4  ANHO  -63.2677   139.8854  2008        6666.7"
      ]
     },
     "execution_count": 11,
     "metadata": {},
     "output_type": "execute_result"
    }
   ],
   "source": [
    "#phyto_main_4 = phyto_main_routes.drop([\"index\"],axis=1\n",
    "phyto_years = phyto_main_4.reset_index().drop([\"index\", \"log2_m3\"],axis=1)\n",
    "phyto_years.head()"
   ]
  },
  {
   "cell_type": "code",
   "execution_count": null,
   "metadata": {
    "scrolled": false
   },
   "outputs": [],
   "source": [
    "phyto_routes.count\n"
   ]
  },
  {
   "cell_type": "markdown",
   "metadata": {},
   "source": [
    "# Zooplankton"
   ]
  },
  {
   "cell_type": "code",
   "execution_count": null,
   "metadata": {
    "scrolled": true
   },
   "outputs": [],
   "source": [
    "#rounding coordinates\n",
    "zooplankton = zooplankton.round(2)\n",
    "zooplankton.head()"
   ]
  },
  {
   "cell_type": "code",
   "execution_count": null,
   "metadata": {},
   "outputs": [],
   "source": [
    "#coordinates column\n",
    "#zooplankton[\"coordinates\"] = \"[\" + zooplankton[\"Latitude\"].astype(str) +\", \" + zooplankton[\"Longitude\"].astype(str) + \"]\""
   ]
  },
  {
   "cell_type": "code",
   "execution_count": null,
   "metadata": {
    "scrolled": false
   },
   "outputs": [],
   "source": [
    "for col in zooplankton.columns:\n",
    "    print(col)"
   ]
  },
  {
   "cell_type": "code",
   "execution_count": null,
   "metadata": {
    "scrolled": false
   },
   "outputs": [],
   "source": [
    "#drop unneeded columns for zooplankton\n",
    "zoo = zooplankton.drop([\"id\",\n",
    "                                \"FID\",\n",
    "                                \"Time_24hr\",\n",
    "                                \"SampleDateUTC\",\n",
    "#                                \"Latitude\",\n",
    "#                                \"Longitude\",\n",
    "                                \"family\",\n",
    "                                \"Month\",\n",
    "                                \"Day\",\n",
    "                                \"genus\",\n",
    "#                                \"taxon_group\",\n",
    "                                \"species\",\n",
    "                                \"sex\",\n",
    "                                  \"life_stage\",\n",
    "                                    \"caab_code\",\n",
    "                                    \"aphiaid\",  \n",
    "                                   \"taxon_start_date\",\n",
    "                                   \"zoop_comments\",\n",
    "                                   \"acknowledgements\",\n",
    "                                   \"first_occurrence\",\n",
    "                             \"taxon_name\",\n",
    "                                   \"parent_taxon_name\",\n",
    "                                   \"training\",\n",
    "                                   \"comments\",\n",
    "                                    \"taxon_eco_group\",\n",
    "                                \"geom\"\n",
    "                                  ],\n",
    "                                  axis=1)"
   ]
  },
  {
   "cell_type": "code",
   "execution_count": null,
   "metadata": {
    "scrolled": true
   },
   "outputs": [],
   "source": [
    "zoo.head()"
   ]
  },
  {
   "cell_type": "markdown",
   "metadata": {},
   "source": [
    "# zoo_taxon_group API"
   ]
  },
  {
   "cell_type": "code",
   "execution_count": null,
   "metadata": {
    "scrolled": true
   },
   "outputs": [],
   "source": [
    "zoo_taxon_group = zoo.drop([\"Latitude\", \"Longitude\"], axis=1)\n",
    "zoo_taxon_group.head()"
   ]
  },
  {
   "cell_type": "markdown",
   "metadata": {},
   "source": [
    "# zoo_groupby_taxon"
   ]
  },
  {
   "cell_type": "code",
   "execution_count": null,
   "metadata": {},
   "outputs": [],
   "source": [
    "zoo_groupby_taxon = pd.DataFrame(zoo_taxon_group.groupby(by=[\"taxon_group\",\"Year\"])[\"taxon_per_m3\"].mean())\n",
    "zoo_groupby_taxon.head()"
   ]
  },
  {
   "cell_type": "markdown",
   "metadata": {},
   "source": [
    "# zoo_routes API"
   ]
  },
  {
   "cell_type": "code",
   "execution_count": null,
   "metadata": {
    "scrolled": true
   },
   "outputs": [],
   "source": [
    "#reset add column for logarithmic scale\n",
    "zoo_routes = zoo.drop([\"taxon_group\"], axis =1)\n",
    "zoo_routes = zoo_routes.reset_index().drop([\"index\"],axis=1)\n",
    "zoo_routes[\"log2_m3\"] = np.log2(zoo_routes[\"taxon_per_m3\"]).round(1)\n",
    "zoo_routes.head()"
   ]
  },
  {
   "cell_type": "markdown",
   "metadata": {},
   "source": [
    "# zoo_groupby_route API"
   ]
  },
  {
   "cell_type": "code",
   "execution_count": null,
   "metadata": {
    "scrolled": true
   },
   "outputs": [],
   "source": [
    "# find the average taxon per m3 grouped by each route and year and turn it into a dataframe\n",
    "zoo_groupby_route = pd.DataFrame(zoo_routes.groupby(by=[\"Route\",\"Year\"])[\"taxon_per_m3\"].mean())\n",
    "\n",
    "zoo_groupby_route.head()"
   ]
  },
  {
   "cell_type": "code",
   "execution_count": null,
   "metadata": {
    "scrolled": true
   },
   "outputs": [],
   "source": [
    "zooplankton.count"
   ]
  },
  {
   "cell_type": "code",
   "execution_count": null,
   "metadata": {},
   "outputs": [],
   "source": [
    "column_values = zooplankton[[\"Route\"]].values.ravel()\n",
    "unique_routes =  pd.unique(column_values)\n",
    "\n",
    "print(unique_routes)"
   ]
  },
  {
   "cell_type": "code",
   "execution_count": null,
   "metadata": {},
   "outputs": [],
   "source": [
    "#for loop to check which routes to drop\n",
    "\n",
    "for route in unique_routes:\n",
    "    print(route)\n",
    "    route_filter = zooplankton.loc[zooplankton['Route'] == route]\n",
    "    print(route_filter[\"Year\"].value_counts())\n",
    "    print(\"***************************************************\")"
   ]
  },
  {
   "cell_type": "code",
   "execution_count": null,
   "metadata": {},
   "outputs": [],
   "source": [
    "#ANHO, BRSY, HOAN, MEAD, PKME"
   ]
  },
  {
   "cell_type": "code",
   "execution_count": null,
   "metadata": {},
   "outputs": [],
   "source": [
    "zoo_main_4 = zoo_routes.loc[((zoo_routes['Route'] == \"ANHO\") |\n",
    "        (zoo_routes[\"Route\"] == 'BRSY')|\n",
    "        (zoo_routes[\"Route\"] == 'HOAN')|\n",
    "#        (zoo_routes[\"Route\"] == 'PKME')|\n",
    "        (zoo_routes[\"Route\"] == 'MEAD')), :]"
   ]
  },
  {
   "cell_type": "markdown",
   "metadata": {},
   "source": [
    "# zoo_years API"
   ]
  },
  {
   "cell_type": "code",
   "execution_count": null,
   "metadata": {
    "scrolled": false
   },
   "outputs": [],
   "source": [
    "zoo_years = zoo_main_4.reset_index().drop([\"index\", \"log2_m3\"], axis=1)\n",
    "zoo_years.head()"
   ]
  },
  {
   "cell_type": "code",
   "execution_count": null,
   "metadata": {},
   "outputs": [],
   "source": [
    "print(np.log2(zoo_routes[\"taxon_per_m3\"].max()).round(1))\n"
   ]
  },
  {
   "cell_type": "code",
   "execution_count": null,
   "metadata": {},
   "outputs": [],
   "source": [
    "print(np.log2(phyto_routes[\"taxon_per_m3\"].max()).round(1))"
   ]
  },
  {
   "cell_type": "code",
   "execution_count": null,
   "metadata": {},
   "outputs": [],
   "source": [
    "# # save to csv, remember to delete index in csv to save space\n",
    "# zoo_main_routes.to_csv(\"clean_data/zooplankton_clean.csv\")\n",
    "# phyto_main_routes.to_csv(\"clean_data/phytoplankton_clean.csv\")"
   ]
  },
  {
   "cell_type": "code",
   "execution_count": null,
   "metadata": {
    "scrolled": true
   },
   "outputs": [],
   "source": [
    "# for col in phytoplankton_color.columns:\n",
    "#     print(col)"
   ]
  },
  {
   "cell_type": "code",
   "execution_count": null,
   "metadata": {},
   "outputs": [],
   "source": [
    "# #drop unneeded columns for phytoplankton color index\n",
    "# phytoplankton_color = phytoplankton_color.drop([\"FID\",\n",
    "#                                                 \"start_port\",\n",
    "#                                                 \"end_port\",\n",
    "#                                                 \"trip_code\",\n",
    "#                                                 \"colour_index\",\n",
    "#                                                 \"measurement\",\n",
    "#                                                \"acknowledgements\",\n",
    "#                                                \"route_frequency\",\n",
    "#                                                \"route_start_date\",\n",
    "#                                                \"pci_comments\",\n",
    "#                                                 \"geom\",\n",
    "#                                                   ],\n",
    "#                                                   axis=1)"
   ]
  },
  {
   "cell_type": "code",
   "execution_count": null,
   "metadata": {
    "scrolled": true
   },
   "outputs": [],
   "source": [
    "phytoplankton_color"
   ]
  },
  {
   "cell_type": "code",
   "execution_count": null,
   "metadata": {
    "scrolled": true
   },
   "outputs": [],
   "source": [
    "# add csv to data base function\n",
    "# def read_sql(data):\n",
    "#     data.to_sql(f\"'{data}'\", conn, if_exists = \"append\")\n"
   ]
  },
  {
   "cell_type": "code",
   "execution_count": null,
   "metadata": {},
   "outputs": [],
   "source": [
    "# # add csv to data base\n",
    "# read_sql(phytoplankton)\n",
    "# read_sql(zooplankton)\n",
    "# read_sql(phytoplankton_color)"
   ]
  },
  {
   "cell_type": "code",
   "execution_count": null,
   "metadata": {
    "scrolled": true
   },
   "outputs": [],
   "source": [
    "# Create an engine for the plankton.sqlite database\n",
    "engine = create_engine(\"sqlite:///planktontestmain4.sqlite\", echo=False)\n",
    "conn = engine.connect()"
   ]
  },
  {
   "cell_type": "markdown",
   "metadata": {},
   "source": [
    "# phyto_routes\n",
    "# phyto_taxon_group\n",
    "# phyto_years\n",
    "# phyto_groupby_route\n",
    "\n",
    "# zoo_routes\n",
    "# zoo_taxon_group\n",
    "# zoo_years\n",
    "# zoo_groupby_route"
   ]
  },
  {
   "cell_type": "code",
   "execution_count": null,
   "metadata": {},
   "outputs": [],
   "source": [
    "phyto_routes.head()"
   ]
  },
  {
   "cell_type": "code",
   "execution_count": null,
   "metadata": {},
   "outputs": [],
   "source": [
    "phyto_routes.to_sql(\"phytoplankton\", conn,)\n",
    "phyto_taxon_group.to_sql(\"phytoplankton_taxon_group\", conn,)\n",
    "phyto_years.to_sql(\"phytoplankton_years\", conn,)\n",
    "zoo_routes.to_sql(\"zooplankton\", conn,)\n",
    "zoo_taxon_group.to_sql(\"zooplankton_taxon_group\", conn,)\n",
    "zoo_years.to_sql(\"zooplankton_years\", conn,)\n",
    "zoo_groupby_route.to_sql(\"zooplankton_groupby_route\", conn,)\n",
    "phyto_groupby_route.to_sql(\"phytoplankton_groupby_route\", conn,)\n",
    "#phytoplankton_color.to_sql(\"phytoplankton_color_index\", conn,)"
   ]
  },
  {
   "cell_type": "code",
   "execution_count": null,
   "metadata": {},
   "outputs": [],
   "source": [
    "zoo_groupby_taxon.to_sql(\"zooplankton_groupby_taxon\", conn,)\n",
    "phyto_groupby_taxon.to_sql(\"phytoplankton_groupby_taxon\", conn,)"
   ]
  },
  {
   "cell_type": "code",
   "execution_count": null,
   "metadata": {},
   "outputs": [],
   "source": [
    "# Reflect Database into ORM classes\n",
    "Base = automap_base()\n",
    "Base.prepare(engine, reflect=True)\n",
    "Base.classes.keys()"
   ]
  },
  {
   "cell_type": "code",
   "execution_count": null,
   "metadata": {},
   "outputs": [],
   "source": [
    "# Create our session (link) from Python to the DB\n",
    "session = Session(engine)"
   ]
  },
  {
   "cell_type": "code",
   "execution_count": null,
   "metadata": {},
   "outputs": [],
   "source": [
    "# Reflect Database into ORM classes\n",
    "Base = automap_base()\n",
    "Base.prepare(engine, reflect=True)\n",
    "Base.classes.keys()"
   ]
  },
  {
   "cell_type": "code",
   "execution_count": null,
   "metadata": {
    "scrolled": false
   },
   "outputs": [],
   "source": [
    "# Use `engine.execute` to select and display the first 10 rows from the station table\n",
    "engine.execute('SELECT * FROM zooplankton LIMIT 5').fetchall()"
   ]
  },
  {
   "cell_type": "code",
   "execution_count": null,
   "metadata": {},
   "outputs": [],
   "source": [
    "# Query phytoplankton Records in the the Database\n",
    "data = pd.read_sql(\"SELECT * FROM phytoplankton\", conn)\n",
    "dataZ = pd.read_sql(\"SELECT * FROM phytoplankton_groupby_taxon\", conn)"
   ]
  },
  {
   "cell_type": "code",
   "execution_count": null,
   "metadata": {
    "scrolled": true
   },
   "outputs": [],
   "source": [
    "data.head()"
   ]
  },
  {
   "cell_type": "code",
   "execution_count": null,
   "metadata": {},
   "outputs": [],
   "source": [
    "dataZ.head()"
   ]
  },
  {
   "cell_type": "code",
   "execution_count": null,
   "metadata": {},
   "outputs": [],
   "source": [
    "zoo_years = pd.read_sql(\"SELECT * FROM phytoplankton_years WHERE Year > 2016\", conn)\n",
    "zoo_years.head()"
   ]
  },
  {
   "cell_type": "code",
   "execution_count": null,
   "metadata": {},
   "outputs": [],
   "source": []
  }
 ],
 "metadata": {
  "kernelspec": {
   "display_name": "Python 3",
   "language": "python",
   "name": "python3"
  },
  "language_info": {
   "codemirror_mode": {
    "name": "ipython",
    "version": 3
   },
   "file_extension": ".py",
   "mimetype": "text/x-python",
   "name": "python",
   "nbconvert_exporter": "python",
   "pygments_lexer": "ipython3",
   "version": "3.6.10"
  }
 },
 "nbformat": 4,
 "nbformat_minor": 4
}
