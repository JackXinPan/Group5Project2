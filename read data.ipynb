{
 "cells": [
  {
   "cell_type": "code",
   "execution_count": 1,
   "metadata": {},
   "outputs": [],
   "source": [
    "# dependencies\n",
    "import pandas as pd\n",
    "import sqlalchemy\n",
    "from sqlalchemy.ext.automap import automap_base\n",
    "from sqlalchemy.orm import Session\n",
    "from sqlalchemy import create_engine\n",
    "from sqlalchemy import create_engine, func\n",
    "from sqlalchemy import create_engine, inspect"
   ]
  },
  {
   "cell_type": "code",
   "execution_count": 2,
   "metadata": {},
   "outputs": [],
   "source": [
    "phytoplankton = pd.read_csv(\"data/phytoplankton.csv\")\n",
    "zooplankton =  pd.read_csv(\"data/zooplankton.csv\")\n",
    "phytoplankton_color = pd.read_csv(\"data/phytoplankton_ci.csv\")"
   ]
  },
  {
   "cell_type": "code",
   "execution_count": 3,
   "metadata": {
    "scrolled": true
   },
   "outputs": [
    {
     "data": {
      "text/html": [
       "<div>\n",
       "<style scoped>\n",
       "    .dataframe tbody tr th:only-of-type {\n",
       "        vertical-align: middle;\n",
       "    }\n",
       "\n",
       "    .dataframe tbody tr th {\n",
       "        vertical-align: top;\n",
       "    }\n",
       "\n",
       "    .dataframe thead th {\n",
       "        text-align: right;\n",
       "    }\n",
       "</style>\n",
       "<table border=\"1\" class=\"dataframe\">\n",
       "  <thead>\n",
       "    <tr style=\"text-align: right;\">\n",
       "      <th></th>\n",
       "      <th>FID</th>\n",
       "      <th>id</th>\n",
       "      <th>Route</th>\n",
       "      <th>Latitude</th>\n",
       "      <th>Longitude</th>\n",
       "      <th>SampleDateUTC</th>\n",
       "      <th>Year</th>\n",
       "      <th>Month</th>\n",
       "      <th>Day</th>\n",
       "      <th>Time_24hr</th>\n",
       "      <th>...</th>\n",
       "      <th>caab_code</th>\n",
       "      <th>taxon_start_date</th>\n",
       "      <th>taxon_per_m3</th>\n",
       "      <th>phyto_comments</th>\n",
       "      <th>acknowledgements</th>\n",
       "      <th>first_occurrence</th>\n",
       "      <th>parent_taxon_name</th>\n",
       "      <th>training</th>\n",
       "      <th>comments</th>\n",
       "      <th>geom</th>\n",
       "    </tr>\n",
       "  </thead>\n",
       "  <tbody>\n",
       "    <tr>\n",
       "      <th>0</th>\n",
       "      <td>soop_auscpr_phyto_flat_map.fid--404dafa0_17a9a...</td>\n",
       "      <td>30880720</td>\n",
       "      <td>ABAB</td>\n",
       "      <td>-37.9138</td>\n",
       "      <td>135.3310</td>\n",
       "      <td>2020-02-27T02:01:35Z</td>\n",
       "      <td>2020</td>\n",
       "      <td>2</td>\n",
       "      <td>27</td>\n",
       "      <td>02:01:35</td>\n",
       "      <td>...</td>\n",
       "      <td>50566000.0</td>\n",
       "      <td>NaN</td>\n",
       "      <td>3333.3</td>\n",
       "      <td>NaN</td>\n",
       "      <td>Wallenius Wilhelmsen</td>\n",
       "      <td>NaN</td>\n",
       "      <td>NaN</td>\n",
       "      <td>NaN</td>\n",
       "      <td>NaN</td>\n",
       "      <td>POINT (135.33099 -37.91378)</td>\n",
       "    </tr>\n",
       "    <tr>\n",
       "      <th>1</th>\n",
       "      <td>soop_auscpr_phyto_flat_map.fid--404dafa0_17a9a...</td>\n",
       "      <td>30880722</td>\n",
       "      <td>ABAB</td>\n",
       "      <td>-37.9138</td>\n",
       "      <td>135.3310</td>\n",
       "      <td>2020-02-27T02:01:35Z</td>\n",
       "      <td>2020</td>\n",
       "      <td>2</td>\n",
       "      <td>27</td>\n",
       "      <td>02:01:35</td>\n",
       "      <td>...</td>\n",
       "      <td>52030054.0</td>\n",
       "      <td>NaN</td>\n",
       "      <td>666.7</td>\n",
       "      <td>*Noted as present in the zoop count*</td>\n",
       "      <td>Wallenius Wilhelmsen</td>\n",
       "      <td>NaN</td>\n",
       "      <td>NaN</td>\n",
       "      <td>NaN</td>\n",
       "      <td>NaN</td>\n",
       "      <td>POINT (135.33099 -37.91378)</td>\n",
       "    </tr>\n",
       "    <tr>\n",
       "      <th>2</th>\n",
       "      <td>soop_auscpr_phyto_flat_map.fid--404dafa0_17a9a...</td>\n",
       "      <td>30880721</td>\n",
       "      <td>ABAB</td>\n",
       "      <td>-37.9138</td>\n",
       "      <td>135.3310</td>\n",
       "      <td>2020-02-27T02:01:35Z</td>\n",
       "      <td>2020</td>\n",
       "      <td>2</td>\n",
       "      <td>27</td>\n",
       "      <td>02:01:35</td>\n",
       "      <td>...</td>\n",
       "      <td>52030900.0</td>\n",
       "      <td>2011-05-17</td>\n",
       "      <td>666.7</td>\n",
       "      <td>*Noted as present in the zoop count*</td>\n",
       "      <td>Wallenius Wilhelmsen</td>\n",
       "      <td>2011-09-20</td>\n",
       "      <td>Tripos spp.</td>\n",
       "      <td>Internal training Pru Bonhma, Gustaaf Hallegraeff</td>\n",
       "      <td>NaN</td>\n",
       "      <td>POINT (135.33099 -37.91378)</td>\n",
       "    </tr>\n",
       "    <tr>\n",
       "      <th>3</th>\n",
       "      <td>soop_auscpr_phyto_flat_map.fid--404dafa0_17a9a...</td>\n",
       "      <td>30880726</td>\n",
       "      <td>ABAB</td>\n",
       "      <td>-37.8766</td>\n",
       "      <td>134.9125</td>\n",
       "      <td>2020-02-27T03:10:21Z</td>\n",
       "      <td>2020</td>\n",
       "      <td>2</td>\n",
       "      <td>27</td>\n",
       "      <td>03:10:21</td>\n",
       "      <td>...</td>\n",
       "      <td>99530018.0</td>\n",
       "      <td>2011-05-17</td>\n",
       "      <td>6666.7</td>\n",
       "      <td>NaN</td>\n",
       "      <td>Wallenius Wilhelmsen</td>\n",
       "      <td>2011-09-15</td>\n",
       "      <td>Pseudo-nitzschia spp.</td>\n",
       "      <td>Internal training Pru Bonhma, Gustaaf Hallegraeff</td>\n",
       "      <td>NaN</td>\n",
       "      <td>POINT (134.91247 -37.87656)</td>\n",
       "    </tr>\n",
       "    <tr>\n",
       "      <th>4</th>\n",
       "      <td>soop_auscpr_phyto_flat_map.fid--404dafa0_17a9a...</td>\n",
       "      <td>30880727</td>\n",
       "      <td>ABAB</td>\n",
       "      <td>-37.8766</td>\n",
       "      <td>134.9125</td>\n",
       "      <td>2020-02-27T03:10:21Z</td>\n",
       "      <td>2020</td>\n",
       "      <td>2</td>\n",
       "      <td>27</td>\n",
       "      <td>03:10:21</td>\n",
       "      <td>...</td>\n",
       "      <td>NaN</td>\n",
       "      <td>NaN</td>\n",
       "      <td>3333.3</td>\n",
       "      <td>NaN</td>\n",
       "      <td>Wallenius Wilhelmsen</td>\n",
       "      <td>NaN</td>\n",
       "      <td>NaN</td>\n",
       "      <td>NaN</td>\n",
       "      <td>NaN</td>\n",
       "      <td>POINT (134.91247 -37.87656)</td>\n",
       "    </tr>\n",
       "  </tbody>\n",
       "</table>\n",
       "<p>5 rows × 25 columns</p>\n",
       "</div>"
      ],
      "text/plain": [
       "                                                 FID        id Route  \\\n",
       "0  soop_auscpr_phyto_flat_map.fid--404dafa0_17a9a...  30880720  ABAB   \n",
       "1  soop_auscpr_phyto_flat_map.fid--404dafa0_17a9a...  30880722  ABAB   \n",
       "2  soop_auscpr_phyto_flat_map.fid--404dafa0_17a9a...  30880721  ABAB   \n",
       "3  soop_auscpr_phyto_flat_map.fid--404dafa0_17a9a...  30880726  ABAB   \n",
       "4  soop_auscpr_phyto_flat_map.fid--404dafa0_17a9a...  30880727  ABAB   \n",
       "\n",
       "   Latitude  Longitude         SampleDateUTC  Year  Month  Day Time_24hr  ...  \\\n",
       "0  -37.9138   135.3310  2020-02-27T02:01:35Z  2020      2   27  02:01:35  ...   \n",
       "1  -37.9138   135.3310  2020-02-27T02:01:35Z  2020      2   27  02:01:35  ...   \n",
       "2  -37.9138   135.3310  2020-02-27T02:01:35Z  2020      2   27  02:01:35  ...   \n",
       "3  -37.8766   134.9125  2020-02-27T03:10:21Z  2020      2   27  03:10:21  ...   \n",
       "4  -37.8766   134.9125  2020-02-27T03:10:21Z  2020      2   27  03:10:21  ...   \n",
       "\n",
       "    caab_code taxon_start_date taxon_per_m3  \\\n",
       "0  50566000.0              NaN       3333.3   \n",
       "1  52030054.0              NaN        666.7   \n",
       "2  52030900.0       2011-05-17        666.7   \n",
       "3  99530018.0       2011-05-17       6666.7   \n",
       "4         NaN              NaN       3333.3   \n",
       "\n",
       "                         phyto_comments      acknowledgements  \\\n",
       "0                                   NaN  Wallenius Wilhelmsen   \n",
       "1  *Noted as present in the zoop count*  Wallenius Wilhelmsen   \n",
       "2  *Noted as present in the zoop count*  Wallenius Wilhelmsen   \n",
       "3                                   NaN  Wallenius Wilhelmsen   \n",
       "4                                   NaN  Wallenius Wilhelmsen   \n",
       "\n",
       "   first_occurrence      parent_taxon_name  \\\n",
       "0               NaN                    NaN   \n",
       "1               NaN                    NaN   \n",
       "2        2011-09-20            Tripos spp.   \n",
       "3        2011-09-15  Pseudo-nitzschia spp.   \n",
       "4               NaN                    NaN   \n",
       "\n",
       "                                            training comments  \\\n",
       "0                                                NaN      NaN   \n",
       "1                                                NaN      NaN   \n",
       "2  Internal training Pru Bonhma, Gustaaf Hallegraeff      NaN   \n",
       "3  Internal training Pru Bonhma, Gustaaf Hallegraeff      NaN   \n",
       "4                                                NaN      NaN   \n",
       "\n",
       "                          geom  \n",
       "0  POINT (135.33099 -37.91378)  \n",
       "1  POINT (135.33099 -37.91378)  \n",
       "2  POINT (135.33099 -37.91378)  \n",
       "3  POINT (134.91247 -37.87656)  \n",
       "4  POINT (134.91247 -37.87656)  \n",
       "\n",
       "[5 rows x 25 columns]"
      ]
     },
     "execution_count": 3,
     "metadata": {},
     "output_type": "execute_result"
    }
   ],
   "source": [
    "\n",
    "phytoplankton.head()"
   ]
  },
  {
   "cell_type": "code",
   "execution_count": 4,
   "metadata": {
    "scrolled": true
   },
   "outputs": [
    {
     "name": "stdout",
     "output_type": "stream",
     "text": [
      "['ABAB' 'ABFR' 'ADAB' 'ADME' 'ANHO' 'AUHO' 'BRER' 'BRFI' 'BRGL' 'BRNC'\n",
      " 'BRPK' 'BRSY' 'BUNE' 'CAGL' 'EDMI' 'FRAN' 'FRBO' 'FRSY' 'GLTO' 'HOAN'\n",
      " 'HOFR' 'HOSO' 'HOSY' 'IIOE' 'MEAB' 'MEAD' 'MEFR' 'MEPK' 'NCME' 'NEBU'\n",
      " 'PKME' 'SOHO' 'SYBR' 'SYHO' 'SYME' 'TINT' 'TOCA']\n"
     ]
    }
   ],
   "source": [
    "# get list of unique routes\n",
    "column_values = phytoplankton[[\"Route\"]].values.ravel()\n",
    "unique_routes =  pd.unique(column_values)\n",
    "\n",
    "print(unique_routes)"
   ]
  },
  {
   "cell_type": "code",
   "execution_count": 5,
   "metadata": {
    "scrolled": true
   },
   "outputs": [
    {
     "name": "stdout",
     "output_type": "stream",
     "text": [
      "HOAN    15806\n",
      "ANHO     6284\n",
      "BRSY     3470\n",
      "BRPK     2647\n",
      "SYME     2098\n",
      "PKME     1952\n",
      "MEAD     1777\n",
      "CAGL     1084\n",
      "ADAB      969\n",
      "ABFR      743\n",
      "HOFR      735\n",
      "MEAB      630\n",
      "FRBO      554\n",
      "GLTO      432\n",
      "HOSY      406\n",
      "FRAN      390\n",
      "BRNC      364\n",
      "BRGL      335\n",
      "IIOE      315\n",
      "BRER      299\n",
      "SYBR      199\n",
      "BUNE      191\n",
      "MEFR      190\n",
      "NCME      182\n",
      "FRSY      172\n",
      "SYHO      160\n",
      "AUHO      147\n",
      "TINT      144\n",
      "HOSO      114\n",
      "EDMI      105\n",
      "NEBU       98\n",
      "ABAB       90\n",
      "MEPK       83\n",
      "SOHO       55\n",
      "BRFI       55\n",
      "TOCA       49\n",
      "ADME       33\n",
      "Name: Route, dtype: int64\n"
     ]
    }
   ],
   "source": [
    "#total count of unique values\n",
    "\n",
    "item_counts = phytoplankton[\"Route\"].value_counts()\n",
    "print(item_counts)"
   ]
  },
  {
   "cell_type": "code",
   "execution_count": 6,
   "metadata": {
    "scrolled": false
   },
   "outputs": [
    {
     "name": "stdout",
     "output_type": "stream",
     "text": [
      "ABAB\n",
      "2020    90\n",
      "Name: Year, dtype: int64\n",
      "***************************************************\n",
      "ABFR\n",
      "2014    300\n",
      "2016    220\n",
      "2017    136\n",
      "2015     87\n",
      "Name: Year, dtype: int64\n",
      "***************************************************\n",
      "ADAB\n",
      "2014    488\n",
      "2016    330\n",
      "2017     92\n",
      "2015     59\n",
      "Name: Year, dtype: int64\n",
      "***************************************************\n",
      "ADME\n",
      "2019    33\n",
      "Name: Year, dtype: int64\n",
      "***************************************************\n",
      "ANHO\n",
      "2010    1432\n",
      "2009    1327\n",
      "2008    1148\n",
      "2018    1132\n",
      "2011     702\n",
      "2013     336\n",
      "2017     103\n",
      "2016      79\n",
      "2019      24\n",
      "2007       1\n",
      "Name: Year, dtype: int64\n",
      "***************************************************\n",
      "AUHO\n",
      "2011    147\n",
      "Name: Year, dtype: int64\n",
      "***************************************************\n",
      "BRER\n",
      "2014    299\n",
      "Name: Year, dtype: int64\n",
      "***************************************************\n",
      "BRFI\n",
      "2012    55\n",
      "Name: Year, dtype: int64\n",
      "***************************************************\n",
      "BRGL\n",
      "2014    281\n",
      "2015     54\n",
      "Name: Year, dtype: int64\n",
      "***************************************************\n",
      "BRNC\n",
      "2015    364\n",
      "Name: Year, dtype: int64\n",
      "***************************************************\n",
      "BRPK\n",
      "2017    954\n",
      "2018    751\n",
      "2019    653\n",
      "2020    179\n",
      "2016    110\n",
      "Name: Year, dtype: int64\n",
      "***************************************************\n",
      "BRSY\n",
      "2014    872\n",
      "2010    803\n",
      "2015    505\n",
      "2018    338\n",
      "2009    329\n",
      "2012    293\n",
      "2011    255\n",
      "2016     75\n",
      "Name: Year, dtype: int64\n",
      "***************************************************\n",
      "BUNE\n",
      "2010    191\n",
      "Name: Year, dtype: int64\n",
      "***************************************************\n",
      "CAGL\n",
      "2019    536\n",
      "2020    427\n",
      "2018    121\n",
      "Name: Year, dtype: int64\n",
      "***************************************************\n",
      "EDMI\n",
      "2018    105\n",
      "Name: Year, dtype: int64\n",
      "***************************************************\n",
      "FRAN\n",
      "2009    390\n",
      "Name: Year, dtype: int64\n",
      "***************************************************\n",
      "FRBO\n",
      "2010    554\n",
      "Name: Year, dtype: int64\n",
      "***************************************************\n",
      "FRSY\n",
      "2011    172\n",
      "Name: Year, dtype: int64\n",
      "***************************************************\n",
      "GLTO\n",
      "2015    182\n",
      "2016    176\n",
      "2014     74\n",
      "Name: Year, dtype: int64\n",
      "***************************************************\n",
      "HOAN\n",
      "2017    4654\n",
      "2016    3368\n",
      "2009    2951\n",
      "2011    1205\n",
      "2007     950\n",
      "2010     851\n",
      "2012     564\n",
      "2008     451\n",
      "2014     302\n",
      "2018     184\n",
      "2015     180\n",
      "2019     146\n",
      "Name: Year, dtype: int64\n",
      "***************************************************\n",
      "HOFR\n",
      "2010    376\n",
      "2011    222\n",
      "2013    137\n",
      "Name: Year, dtype: int64\n",
      "***************************************************\n",
      "HOSO\n",
      "2012    44\n",
      "2018    29\n",
      "2020    24\n",
      "2019    17\n",
      "Name: Year, dtype: int64\n",
      "***************************************************\n",
      "HOSY\n",
      "2016    169\n",
      "2015    120\n",
      "2010    117\n",
      "Name: Year, dtype: int64\n",
      "***************************************************\n",
      "IIOE\n",
      "2019    315\n",
      "Name: Year, dtype: int64\n",
      "***************************************************\n",
      "MEAB\n",
      "2018    303\n",
      "2017    228\n",
      "2019     60\n",
      "2020     39\n",
      "Name: Year, dtype: int64\n",
      "***************************************************\n",
      "MEAD\n",
      "2014    415\n",
      "2012    308\n",
      "2011    228\n",
      "2016    209\n",
      "2013    176\n",
      "2015    113\n",
      "2020    107\n",
      "2018     97\n",
      "2010     81\n",
      "2017     43\n",
      "Name: Year, dtype: int64\n",
      "***************************************************\n",
      "MEFR\n",
      "2019    109\n",
      "2016     81\n",
      "Name: Year, dtype: int64\n",
      "***************************************************\n",
      "MEPK\n",
      "2019    83\n",
      "Name: Year, dtype: int64\n",
      "***************************************************\n",
      "NCME\n",
      "2015    182\n",
      "Name: Year, dtype: int64\n",
      "***************************************************\n",
      "NEBU\n",
      "2012    98\n",
      "Name: Year, dtype: int64\n",
      "***************************************************\n",
      "PKME\n",
      "2017    649\n",
      "2019    607\n",
      "2018    448\n",
      "2020    175\n",
      "2016     73\n",
      "Name: Year, dtype: int64\n",
      "***************************************************\n",
      "SOHO\n",
      "2015    22\n",
      "2012    22\n",
      "2018    11\n",
      "Name: Year, dtype: int64\n",
      "***************************************************\n",
      "SYBR\n",
      "2014    199\n",
      "Name: Year, dtype: int64\n",
      "***************************************************\n",
      "SYHO\n",
      "2015    107\n",
      "2010     53\n",
      "Name: Year, dtype: int64\n",
      "***************************************************\n",
      "SYME\n",
      "2015    475\n",
      "2010    399\n",
      "2014    353\n",
      "2012    283\n",
      "2009    248\n",
      "2011    192\n",
      "2016    148\n",
      "Name: Year, dtype: int64\n",
      "***************************************************\n",
      "TINT\n",
      "2017    144\n",
      "Name: Year, dtype: int64\n",
      "***************************************************\n",
      "TOCA\n",
      "2013    49\n",
      "Name: Year, dtype: int64\n",
      "***************************************************\n"
     ]
    }
   ],
   "source": [
    "#for loop to check which routes to drop\n",
    "\n",
    "for route in unique_routes:\n",
    "    print(route)\n",
    "    route_filter = phytoplankton.loc[phytoplankton['Route'] == route]\n",
    "    print(route_filter[\"Year\"].value_counts())\n",
    "    print(\"***************************************************\")"
   ]
  },
  {
   "cell_type": "code",
   "execution_count": 7,
   "metadata": {
    "scrolled": true
   },
   "outputs": [],
   "source": [
    "#drop unneeded columns for phytoplankton\n",
    "phytoplankton = phytoplankton.drop([\"id\",\n",
    "                                    \"Time_24hr\",\n",
    "                                    \"FID\",\n",
    "                                    \"Month\",\n",
    "                                    \"Day\",\n",
    "                                    \"family\",\n",
    "                                    \"genus\",\n",
    "                                    \"species\",\n",
    "                                    \"caab_code\",\n",
    "                                   \"taxon_start_date\",\n",
    "                                    \"taxon_name\",\n",
    "                                   \"phyto_comments\",\n",
    "                                   \"acknowledgements\",\n",
    "                                   \"first_occurrence\",\n",
    "                                   \"parent_taxon_name\",\n",
    "                                   \"training\",\n",
    "                                   \"comments\",\n",
    "                                    \"geom\"\n",
    "                                  ],\n",
    "                                  axis=1)"
   ]
  },
  {
   "cell_type": "code",
   "execution_count": 8,
   "metadata": {
    "scrolled": false
   },
   "outputs": [
    {
     "data": {
      "text/html": [
       "<div>\n",
       "<style scoped>\n",
       "    .dataframe tbody tr th:only-of-type {\n",
       "        vertical-align: middle;\n",
       "    }\n",
       "\n",
       "    .dataframe tbody tr th {\n",
       "        vertical-align: top;\n",
       "    }\n",
       "\n",
       "    .dataframe thead th {\n",
       "        text-align: right;\n",
       "    }\n",
       "</style>\n",
       "<table border=\"1\" class=\"dataframe\">\n",
       "  <thead>\n",
       "    <tr style=\"text-align: right;\">\n",
       "      <th></th>\n",
       "      <th>Route</th>\n",
       "      <th>Latitude</th>\n",
       "      <th>Longitude</th>\n",
       "      <th>SampleDateUTC</th>\n",
       "      <th>Year</th>\n",
       "      <th>taxon_group</th>\n",
       "      <th>taxon_per_m3</th>\n",
       "    </tr>\n",
       "  </thead>\n",
       "  <tbody>\n",
       "    <tr>\n",
       "      <th>0</th>\n",
       "      <td>ABAB</td>\n",
       "      <td>-37.9138</td>\n",
       "      <td>135.3310</td>\n",
       "      <td>2020-02-27T02:01:35Z</td>\n",
       "      <td>2020</td>\n",
       "      <td>Ciliate</td>\n",
       "      <td>3333.3</td>\n",
       "    </tr>\n",
       "    <tr>\n",
       "      <th>1</th>\n",
       "      <td>ABAB</td>\n",
       "      <td>-37.9138</td>\n",
       "      <td>135.3310</td>\n",
       "      <td>2020-02-27T02:01:35Z</td>\n",
       "      <td>2020</td>\n",
       "      <td>Dinoflagellate</td>\n",
       "      <td>666.7</td>\n",
       "    </tr>\n",
       "    <tr>\n",
       "      <th>2</th>\n",
       "      <td>ABAB</td>\n",
       "      <td>-37.9138</td>\n",
       "      <td>135.3310</td>\n",
       "      <td>2020-02-27T02:01:35Z</td>\n",
       "      <td>2020</td>\n",
       "      <td>Dinoflagellate</td>\n",
       "      <td>666.7</td>\n",
       "    </tr>\n",
       "    <tr>\n",
       "      <th>3</th>\n",
       "      <td>ABAB</td>\n",
       "      <td>-37.8766</td>\n",
       "      <td>134.9125</td>\n",
       "      <td>2020-02-27T03:10:21Z</td>\n",
       "      <td>2020</td>\n",
       "      <td>Pennate diatom</td>\n",
       "      <td>6666.7</td>\n",
       "    </tr>\n",
       "    <tr>\n",
       "      <th>4</th>\n",
       "      <td>ABAB</td>\n",
       "      <td>-37.8766</td>\n",
       "      <td>134.9125</td>\n",
       "      <td>2020-02-27T03:10:21Z</td>\n",
       "      <td>2020</td>\n",
       "      <td>Dinoflagellate</td>\n",
       "      <td>3333.3</td>\n",
       "    </tr>\n",
       "  </tbody>\n",
       "</table>\n",
       "</div>"
      ],
      "text/plain": [
       "  Route  Latitude  Longitude         SampleDateUTC  Year     taxon_group  \\\n",
       "0  ABAB  -37.9138   135.3310  2020-02-27T02:01:35Z  2020         Ciliate   \n",
       "1  ABAB  -37.9138   135.3310  2020-02-27T02:01:35Z  2020  Dinoflagellate   \n",
       "2  ABAB  -37.9138   135.3310  2020-02-27T02:01:35Z  2020  Dinoflagellate   \n",
       "3  ABAB  -37.8766   134.9125  2020-02-27T03:10:21Z  2020  Pennate diatom   \n",
       "4  ABAB  -37.8766   134.9125  2020-02-27T03:10:21Z  2020  Dinoflagellate   \n",
       "\n",
       "   taxon_per_m3  \n",
       "0        3333.3  \n",
       "1         666.7  \n",
       "2         666.7  \n",
       "3        6666.7  \n",
       "4        3333.3  "
      ]
     },
     "execution_count": 8,
     "metadata": {},
     "output_type": "execute_result"
    }
   ],
   "source": [
    "phytoplankton.head()"
   ]
  },
  {
   "cell_type": "code",
   "execution_count": null,
   "metadata": {},
   "outputs": [],
   "source": [
    "phyto_main_routes = phytoplankton.loc[((phytoplankton['Route'] == \"ANHO\") |\n",
    "        (phytoplankton[\"Route\"] == 'BRSY')|\n",
    "        (phytoplankton[\"Route\"] == 'HOAN')|\n",
    "#        (phytoplankton[\"Route\"] == 'PKME')|\n",
    "        (phytoplankton[\"Route\"] == 'MEAD')), :]"
   ]
  },
  {
   "cell_type": "code",
   "execution_count": null,
   "metadata": {},
   "outputs": [],
   "source": [
    "#ANHO, BRSY, HOAN, MEAD, PKME"
   ]
  },
  {
   "cell_type": "code",
   "execution_count": null,
   "metadata": {},
   "outputs": [],
   "source": [
    "#rounding coordinates\n",
    "phyto_main_routes = phyto_main_routes.round(2)\n",
    "phyto_main_routes.head()"
   ]
  },
  {
   "cell_type": "code",
   "execution_count": null,
   "metadata": {},
   "outputs": [],
   "source": [
    "# get list of unique routes\n",
    "column_values = phyto_main_routes[[\"Route\"]].values.ravel()\n",
    "unique_routes =  pd.unique(column_values)\n",
    "\n",
    "print(unique_routes)"
   ]
  },
  {
   "cell_type": "code",
   "execution_count": null,
   "metadata": {
    "scrolled": false
   },
   "outputs": [],
   "source": [
    "phytoplankton.count"
   ]
  },
  {
   "cell_type": "code",
   "execution_count": null,
   "metadata": {
    "scrolled": true
   },
   "outputs": [],
   "source": [
    "phyto_main_routes.count\n"
   ]
  },
  {
   "cell_type": "code",
   "execution_count": null,
   "metadata": {
    "scrolled": true
   },
   "outputs": [],
   "source": [
    "for col in zooplankton.columns:\n",
    "    print(col)"
   ]
  },
  {
   "cell_type": "code",
   "execution_count": null,
   "metadata": {
    "scrolled": false
   },
   "outputs": [],
   "source": [
    "#drop unneeded columns for zooplankton\n",
    "zooplankton = zooplankton.drop([\"id\",\n",
    "                                \"FID\",\n",
    "                                \"Time_24hr\",\n",
    "                                \"family\",\n",
    "                                \"Month\",\n",
    "                                \"Day\",\n",
    "                                \"genus\",\n",
    "                                \"species\",\n",
    "                                \"sex\",\n",
    "                                  \"life_stage\",\n",
    "                                    \"caab_code\",\n",
    "                                    \"aphiaid\",  \n",
    "                                   \"taxon_start_date\",\n",
    "                                   \"zoop_comments\",\n",
    "                                   \"acknowledgements\",\n",
    "                                   \"first_occurrence\",\n",
    "                                \"taxon_name\",\n",
    "                                   \"parent_taxon_name\",\n",
    "                                   \"training\",\n",
    "                                   \"comments\",\n",
    "                                    \"taxon_eco_group\",\n",
    "                                \"geom\"\n",
    "                                  ],\n",
    "                                  axis=1)"
   ]
  },
  {
   "cell_type": "code",
   "execution_count": null,
   "metadata": {
    "scrolled": true
   },
   "outputs": [],
   "source": [
    "zooplankton.head(20)"
   ]
  },
  {
   "cell_type": "code",
   "execution_count": null,
   "metadata": {
    "scrolled": true
   },
   "outputs": [],
   "source": [
    "zooplankton.count"
   ]
  },
  {
   "cell_type": "code",
   "execution_count": null,
   "metadata": {},
   "outputs": [],
   "source": [
    "column_values = zooplankton[[\"Route\"]].values.ravel()\n",
    "unique_routes =  pd.unique(column_values)\n",
    "\n",
    "print(unique_routes)"
   ]
  },
  {
   "cell_type": "code",
   "execution_count": null,
   "metadata": {},
   "outputs": [],
   "source": [
    "#for loop to check which routes to drop\n",
    "\n",
    "for route in unique_routes:\n",
    "    print(route)\n",
    "    route_filter = zooplankton.loc[zooplankton['Route'] == route]\n",
    "    print(route_filter[\"Year\"].value_counts())\n",
    "    print(\"***************************************************\")"
   ]
  },
  {
   "cell_type": "code",
   "execution_count": null,
   "metadata": {},
   "outputs": [],
   "source": [
    "#ANHO, BRSY, HOAN, MEAD, PKME"
   ]
  },
  {
   "cell_type": "code",
   "execution_count": null,
   "metadata": {},
   "outputs": [],
   "source": [
    "zoo_main_routes = zooplankton.loc[((zooplankton['Route'] == \"ANHO\") |\n",
    "        (zooplankton[\"Route\"] == 'BRSY')|\n",
    "        (zooplankton[\"Route\"] == 'HOAN')|\n",
    "#        (zooplankton[\"Route\"] == 'PKME')|\n",
    "        (zooplankton[\"Route\"] == 'MEAD')), :]"
   ]
  },
  {
   "cell_type": "code",
   "execution_count": null,
   "metadata": {
    "scrolled": false
   },
   "outputs": [],
   "source": [
    "zoo_main_routes.head()"
   ]
  },
  {
   "cell_type": "code",
   "execution_count": null,
   "metadata": {
    "scrolled": false
   },
   "outputs": [],
   "source": [
    "#rounding coordinates\n",
    "zoo_main_routes = zoo_main_routes.round(2)\n",
    "zoo_main_routes.head()"
   ]
  },
  {
   "cell_type": "code",
   "execution_count": null,
   "metadata": {},
   "outputs": [],
   "source": [
    "# save to csv\n",
    "zoo_main_routes.to_csv(\"clean_data/zooplankton_clean.csv\")\n",
    "phyto_main_routes.to_csv(\"clean_data/phytoplankton_clean.csv\")"
   ]
  },
  {
   "cell_type": "code",
   "execution_count": null,
   "metadata": {
    "scrolled": true
   },
   "outputs": [],
   "source": [
    "zoo_main_routes.count"
   ]
  },
  {
   "cell_type": "code",
   "execution_count": null,
   "metadata": {
    "scrolled": true
   },
   "outputs": [],
   "source": [
    "for col in phytoplankton_color.columns:\n",
    "    print(col)"
   ]
  },
  {
   "cell_type": "code",
   "execution_count": null,
   "metadata": {},
   "outputs": [],
   "source": [
    "#drop unneeded columns for phytoplankton color index\n",
    "phytoplankton_color = phytoplankton_color.drop([\"FID\",\n",
    "                                                \"start_port\",\n",
    "                                                \"end_port\",\n",
    "                                                \"trip_code\",\n",
    "                                                \"colour_index\",\n",
    "                                                \"measurement\",\n",
    "                                               \"acknowledgements\",\n",
    "                                               \"route_frequency\",\n",
    "                                               \"route_start_date\",\n",
    "                                               \"pci_comments\",\n",
    "                                                \"geom\",\n",
    "                                                  ],\n",
    "                                                  axis=1)"
   ]
  },
  {
   "cell_type": "code",
   "execution_count": null,
   "metadata": {
    "scrolled": true
   },
   "outputs": [],
   "source": [
    "phytoplankton_color"
   ]
  },
  {
   "cell_type": "code",
   "execution_count": null,
   "metadata": {
    "scrolled": true
   },
   "outputs": [],
   "source": [
    "# Create an engine for the plankton.sqlite database\n",
    "engine = create_engine(\"sqlite:///planktontest.sqlite\", echo=False)\n",
    "conn = engine.connect()"
   ]
  },
  {
   "cell_type": "code",
   "execution_count": null,
   "metadata": {
    "scrolled": true
   },
   "outputs": [],
   "source": [
    "# add csv to data base function\n",
    "# def read_sql(data):\n",
    "#     data.to_sql(f\"'{data}'\", conn, if_exists = \"append\")\n"
   ]
  },
  {
   "cell_type": "code",
   "execution_count": null,
   "metadata": {},
   "outputs": [],
   "source": [
    "# # add csv to data base\n",
    "# read_sql(phytoplankton)\n",
    "# read_sql(zooplankton)\n",
    "# read_sql(phytoplankton_color)"
   ]
  },
  {
   "cell_type": "code",
   "execution_count": null,
   "metadata": {},
   "outputs": [],
   "source": [
    "phyto_main_routes.to_sql(\"phytoplankton\", conn,)\n",
    "zoo_main_routes.to_sql(\"zooplankton\", conn,)\n",
    "phytoplankton_color.to_sql(\"phytoplankton_color_index\", conn,)"
   ]
  },
  {
   "cell_type": "code",
   "execution_count": null,
   "metadata": {},
   "outputs": [],
   "source": [
    "# Create our session (link) from Python to the DB\n",
    "session = Session(engine)"
   ]
  },
  {
   "cell_type": "code",
   "execution_count": null,
   "metadata": {},
   "outputs": [],
   "source": [
    "# Reflect Database into ORM classes\n",
    "Base = automap_base()\n",
    "Base.prepare(engine, reflect=True)\n",
    "Base.classes.keys()"
   ]
  },
  {
   "cell_type": "code",
   "execution_count": null,
   "metadata": {
    "scrolled": false
   },
   "outputs": [],
   "source": [
    "# Use `engine.execute` to select and display the first 10 rows from the station table\n",
    "engine.execute('SELECT * FROM zooplankton LIMIT 5').fetchall()"
   ]
  },
  {
   "cell_type": "code",
   "execution_count": null,
   "metadata": {},
   "outputs": [],
   "source": [
    "# Query phytoplankton Records in the the Database\n",
    "data = pd.read_sql(\"SELECT * FROM phytoplankton\", conn)"
   ]
  },
  {
   "cell_type": "code",
   "execution_count": null,
   "metadata": {
    "scrolled": true
   },
   "outputs": [],
   "source": [
    "data.head()"
   ]
  },
  {
   "cell_type": "code",
   "execution_count": null,
   "metadata": {},
   "outputs": [],
   "source": []
  }
 ],
 "metadata": {
  "kernelspec": {
   "display_name": "Python 3",
   "language": "python",
   "name": "python3"
  },
  "language_info": {
   "codemirror_mode": {
    "name": "ipython",
    "version": 3
   },
   "file_extension": ".py",
   "mimetype": "text/x-python",
   "name": "python",
   "nbconvert_exporter": "python",
   "pygments_lexer": "ipython3",
   "version": "3.6.10"
  }
 },
 "nbformat": 4,
 "nbformat_minor": 4
}
